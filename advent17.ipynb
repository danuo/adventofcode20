{
 "cells": [
  {
   "cell_type": "code",
   "execution_count": 1,
   "metadata": {},
   "outputs": [],
   "source": [
    "from itertools import product\n",
    "\n",
    "with open('input17') as file:\n",
    "    lines = file.read().splitlines()\n",
    "\n",
    "\n",
    "class Cubematrix():\n",
    "    #\n",
    "    # this class can perform the cube evolution according to the puzzle rules\n",
    "    # every function works with 3d and 4d coordinate systems, so both challenges\n",
    "    # can be solved identically by only changing the dim variable\n",
    "    #\n",
    "    def __init__(self, dim=3):\n",
    "        self.reset(dim=dim)\n",
    "\n",
    "    def reset(self, dim=3):\n",
    "        self.cube_dict = dict()\n",
    "        self.dim = dim\n",
    "        self.coords_sets = [set() for _ in range(4)]\n",
    "        self.load_data_from_file()\n",
    "\n",
    "    def load_data_from_file(self):\n",
    "        for y, line in enumerate(lines):\n",
    "            for x, char in enumerate(line):\n",
    "                state = True if char == '#' else False\n",
    "                self.update_cube((x, y, 0, 0), state)\n",
    "\n",
    "    def calculate_iter_coords(self):\n",
    "        nlist = [range(min(self.coords_sets[i])-1, max(self.coords_sets[i])+2) for i in range(self.dim)]\n",
    "        if self.dim == 3:\n",
    "            nlist.append([0])\n",
    "        return product(*nlist)\n",
    "\n",
    "    def get_neighbours(self, coords):\n",
    "        ranges = [range(x-1, x+2) for x in coords[:self.dim]]\n",
    "        if self.dim == 3:\n",
    "            ranges.append([0])\n",
    "        result = product(*ranges)\n",
    "        result = list(result)\n",
    "        result.remove(coords)\n",
    "        return result\n",
    "\n",
    "    def register_coords(self, coords):\n",
    "        for i, item in enumerate(coords):\n",
    "            self.coords_sets[i].add(item)\n",
    "\n",
    "    def update_cube(self, coords, state):\n",
    "        if state == True:\n",
    "            self.register_coords(coords)\n",
    "        self.cube_dict.update({coords: state})\n",
    "\n",
    "    def get_state(self, coords):\n",
    "        if coords in self.cube_dict:\n",
    "            return self.cube_dict[coords]\n",
    "        else:\n",
    "            return False\n",
    "\n",
    "    def n_steps(self, n):\n",
    "        for _ in range(n):\n",
    "            self.step()\n",
    "\n",
    "    def step(self):\n",
    "        cube_dict_new = dict()\n",
    "        for coords in self.calculate_iter_coords():\n",
    "            counter = 0\n",
    "            for n_coords in self.get_neighbours(coords):\n",
    "                if self.get_state(n_coords) == True:\n",
    "                    counter += 1\n",
    "            new_state = False\n",
    "            # ─── RULE 1 ──────────────────────────────────────────────────────\n",
    "            if self.get_state(coords) == True:\n",
    "                if counter in [2, 3]:  # 2 or 3 neighbours are active\n",
    "                    new_state = True\n",
    "                    self.register_coords(coords)\n",
    "            # ─── RULE 2 ──────────────────────────────────────────────────────\n",
    "            else:\n",
    "                if counter in [3]:     # 3 neighbours are active\n",
    "                    new_state = True\n",
    "                    self.register_coords(coords)\n",
    "            cube_dict_new.update({coords: new_state})\n",
    "        self.cube_dict = cube_dict_new\n",
    "\n",
    "    def eval(self):\n",
    "        counter = 0\n",
    "        for coords, state in self.cube_dict.items():\n",
    "            if state == True:\n",
    "                counter += 1\n",
    "        if self.dim == 3:\n",
    "            print('result 1: ', counter)\n",
    "        else:\n",
    "            print('result 2: ', counter)\n",
    "\n",
    "    def print_state(self):\n",
    "        for y in range(min(self.coords_sets[1]), max(self.coords_sets[1])+1):\n",
    "            stringlist = []\n",
    "            for x in range(min(self.coords_sets[0]), max(self.coords_sets[0])+1):\n",
    "                state = self.cube_dict.get((x, y, 0, 0), False)\n",
    "                char = '#' if state == True else '.'\n",
    "                stringlist.append(char)\n",
    "            print(''.join(stringlist))\n",
    "        print('\\n')\n"
   ]
  },
  {
   "cell_type": "code",
   "execution_count": 2,
   "metadata": {},
   "outputs": [
    {
     "name": "stdout",
     "output_type": "stream",
     "text": [
      "result 1:  273\n"
     ]
    }
   ],
   "source": [
    "# ─── CHALLENGE 1 ────────────────────────────────────────────────────────────────\n",
    "\n",
    "cm = Cubematrix(dim=3)\n",
    "cm.n_steps(6)\n",
    "cm.eval()\n"
   ]
  },
  {
   "cell_type": "code",
   "execution_count": 3,
   "metadata": {},
   "outputs": [
    {
     "name": "stdout",
     "output_type": "stream",
     "text": [
      "result 2:  1504\n"
     ]
    }
   ],
   "source": [
    "# ─── CHALLENGE 2 ────────────────────────────────────────────────────────────────\n",
    "\n",
    "cm.reset(dim=4)\n",
    "cm.n_steps(6)\n",
    "cm.eval()"
   ]
  },
  {
   "cell_type": "code",
   "execution_count": null,
   "metadata": {},
   "outputs": [],
   "source": []
  }
 ],
 "metadata": {
  "kernelspec": {
   "display_name": "Python 3",
   "language": "python",
   "name": "python3"
  },
  "language_info": {
   "codemirror_mode": {
    "name": "ipython",
    "version": 3
   },
   "file_extension": ".py",
   "mimetype": "text/x-python",
   "name": "python",
   "nbconvert_exporter": "python",
   "pygments_lexer": "ipython3",
   "version": "3.8.3-final"
  },
  "orig_nbformat": 2
 },
 "nbformat": 4,
 "nbformat_minor": 2
}
