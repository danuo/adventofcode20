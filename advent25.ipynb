{
 "cells": [
  {
   "cell_type": "code",
   "execution_count": 1,
   "metadata": {},
   "outputs": [
    {
     "name": "stdout",
     "output_type": "stream",
     "text": [
      "loop size (card):  2541700\n",
      "loop size (door):  4208732\n",
      "(only one needed)\n",
      "result 1:  15217943\n"
     ]
    }
   ],
   "source": [
    "# ─── CHALLENGE 1 ────────────────────────────────────────────────────────────────\n",
    "\n",
    "with open('input25') as file:\n",
    "    lines = file.read()\n",
    "\n",
    "pub_card, pub_door = lines.splitlines()\n",
    "pub_card, pub_door = int(pub_card), int(pub_door)\n",
    "\n",
    "# this is an insecure variation of the Diffie–Hellman key exchange \n",
    "# (see https://en.wikipedia.org/wiki/Diffie–Hellman_key_exchange)\n",
    "# the issue is, that the modulus is calculated in every loop:\n",
    "# \n",
    "# proper implementation:\n",
    "# A = g^a mod p\n",
    "#\n",
    "# this implementation:\n",
    "# A = x(a) with x(n+1) = (x(n)*g) mod p and x(0) = a\n",
    "#\n",
    "# with x(n+1) = (x(n)*g) mod p we can be sure, that \n",
    "# 0 <= x(n+1) < p\n",
    "#\n",
    "# we also know, that\n",
    "# (x(n)*g) = i * p + x(n+1) with 0 <= i < 7  and\n",
    "# x(n) mod g == 0                            and\n",
    "# x(0) = a\n",
    "#\n",
    "# we can therefore solve for a with\n",
    "\n",
    "def get_loop_size(public_key):\n",
    "    counter = 1\n",
    "    while True:\n",
    "        counter += 1\n",
    "        for i in range(7):\n",
    "            result = (public_key + i * 20201227) % 7\n",
    "            if result == 0:\n",
    "                break\n",
    "        public_key = (public_key + i * 20201227) // 7\n",
    "        if public_key == 7:\n",
    "            break\n",
    "    return counter\n",
    "\n",
    "ls_card = get_loop_size(pub_card)\n",
    "ls_door = get_loop_size(pub_door)\n",
    "\n",
    "print('loop size (card): ', ls_card)\n",
    "print('loop size (door): ', ls_door)\n",
    "print('(only one needed)')\n",
    "\n",
    "def transform(subject_number, loop_size):\n",
    "    num = 1\n",
    "    for _ in range(loop_size):\n",
    "        num = num * subject_number\n",
    "        num = num % 20201227\n",
    "    return num\n",
    "\n",
    "print('result 1: ', transform(pub_door, ls_card))\n"
   ]
  },
  {
   "cell_type": "code",
   "execution_count": null,
   "metadata": {},
   "outputs": [],
   "source": []
  }
 ],
 "metadata": {
  "kernelspec": {
   "display_name": "ravelights",
   "language": "python",
   "name": "python3"
  },
  "language_info": {
   "codemirror_mode": {
    "name": "ipython",
    "version": 3
   },
   "file_extension": ".py",
   "mimetype": "text/x-python",
   "name": "python",
   "nbconvert_exporter": "python",
   "pygments_lexer": "ipython3",
   "version": "3.10.4 | packaged by conda-forge | (main, Mar 24 2022, 17:32:50) [MSC v.1929 64 bit (AMD64)]"
  },
  "orig_nbformat": 2,
  "vscode": {
   "interpreter": {
    "hash": "93ebad531fc14ba2f2fe9865593b3cc6d4b4610116dacef3aa50777030d7ba3e"
   }
  }
 },
 "nbformat": 4,
 "nbformat_minor": 2
}
