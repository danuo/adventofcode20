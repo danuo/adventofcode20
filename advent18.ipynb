{
 "cells": [
  {
   "cell_type": "code",
   "execution_count": 1,
   "metadata": {},
   "outputs": [],
   "source": [
    "# ─── PARSE INPUT ────────────────────────────────────────────────────────────────\n",
    "\n",
    "import re\n",
    "\n",
    "with open('input18') as file:\n",
    "    lines = file.read().splitlines()\n",
    "\n",
    "def apply_number(counter, number, opperand):\n",
    "    assert opperand in '+*'\n",
    "    if opperand == '+':\n",
    "        counter = counter + number\n",
    "    else:\n",
    "        counter = counter * number\n",
    "    return counter\n",
    "\n",
    "def parse_string(string):\n",
    "    # ─── GET FIRST NUMBER\n",
    "    match = re.search('(\\d+|[+*\\(\\)])(.*)', string)\n",
    "    symbol = match.group(1)\n",
    "    string = match.group(2)\n",
    "    \n",
    "    if symbol == '(':\n",
    "        # ─── SPAWN NEW INSTANCE\n",
    "        counter, string = parse_string(string)\n",
    "    else:\n",
    "        counter = int(symbol)\n",
    "    \n",
    "    while len(string) > 0:\n",
    "        match = re.search('(\\d+|[+*\\(\\)])(.*)', string)\n",
    "        if not match:\n",
    "            return counter, string\n",
    "        symbol = match.group(1)\n",
    "        string = match.group(2)\n",
    "        \n",
    "        # if symbol is number\n",
    "        if re.match('\\d+', symbol): \n",
    "            number = int(symbol)\n",
    "            counter = apply_number(counter, number, opperand)\n",
    "\n",
    "        # if symbol is opperand\n",
    "        else:\n",
    "            if symbol in '+*':\n",
    "                opperand = symbol\n",
    "            if symbol in '*' and not order_of_operation:\n",
    "                number, string = parse_string(string)\n",
    "                # add closing bracket back to string, so that scope\n",
    "                # of brackets get closed too (opened 2 scopes)\n",
    "                string = ')'+string\n",
    "                counter = apply_number(counter, number, opperand)\n",
    "            if symbol in '(':\n",
    "                number, string = parse_string(string)\n",
    "                counter = apply_number(counter, number, opperand)\n",
    "            elif symbol == ')':\n",
    "                return counter, string\n",
    "        \n",
    "    return counter, string"
   ]
  },
  {
   "cell_type": "code",
   "execution_count": 2,
   "metadata": {},
   "outputs": [
    {
     "name": "stdout",
     "output_type": "stream",
     "text": [
      "result 1:  14006719520523\n"
     ]
    }
   ],
   "source": [
    "# ─── CHALLENGE 1 ────────────────────────────────────────────────────────────────\n",
    "\n",
    "order_of_operation = True\n",
    "line_results = []\n",
    "for line in lines:\n",
    "    result, string = parse_string(line)\n",
    "    line_results.append(result)\n",
    "\n",
    "print('result 1: ', sum(line_results))"
   ]
  },
  {
   "cell_type": "code",
   "execution_count": 3,
   "metadata": {},
   "outputs": [
    {
     "name": "stdout",
     "output_type": "stream",
     "text": [
      "result 2:  545115449981968\n"
     ]
    }
   ],
   "source": [
    "# ─── CHALLENGE 2 ────────────────────────────────────────────────────────────────\n",
    "\n",
    "order_of_operation = False\n",
    "line_results = []\n",
    "for line in lines:\n",
    "    result, string = parse_string(line)\n",
    "    line_results.append(result)\n",
    "\n",
    "print('result 2: ', sum(line_results))"
   ]
  },
  {
   "cell_type": "code",
   "execution_count": null,
   "metadata": {},
   "outputs": [],
   "source": []
  }
 ],
 "metadata": {
  "kernelspec": {
   "display_name": "Python 3",
   "language": "python",
   "name": "python3"
  },
  "language_info": {
   "codemirror_mode": {
    "name": "ipython",
    "version": 3
   },
   "file_extension": ".py",
   "mimetype": "text/x-python",
   "name": "python",
   "nbconvert_exporter": "python",
   "pygments_lexer": "ipython3",
   "version": "3.8.3-final"
  },
  "orig_nbformat": 2
 },
 "nbformat": 4,
 "nbformat_minor": 2
}
