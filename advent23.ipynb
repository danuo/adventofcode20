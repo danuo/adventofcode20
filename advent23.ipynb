{
 "cells": [
  {
   "cell_type": "code",
   "execution_count": 1,
   "metadata": {},
   "outputs": [],
   "source": [
    "# ─── INPUT AND LOGIC ────────────────────────────────────────────────────────────\n",
    "\n",
    "inp = '523764819'\n",
    "\n",
    "class Crab():\n",
    "    def __init__(self, intlist):\n",
    "        self.n = len(intlist)\n",
    "        \n",
    "        self.min = 1       # lowest cup value\n",
    "        self.max = self.n  # highest cup value\n",
    "        \n",
    "        # memory list holds cup order\n",
    "        # value at index 0: label of cup next to cup 1 (clockwise)\n",
    "        # value at index 1: label of cup next to cup 2 (clockwise)\n",
    "        self.memory = [0 for i in range(len(intlist))]\n",
    "        \n",
    "        # read input to memory\n",
    "        current_label = intlist[-1]\n",
    "        for next_label in intlist:\n",
    "            self.memory[current_label-1] = next_label\n",
    "            current_label = next_label\n",
    "            \n",
    "        self.current_idx = intlist[0]\n",
    "\n",
    "            \n",
    "    def step(self):\n",
    "        # take 3 cups next to current cup\n",
    "        pickup = []\n",
    "        temp_idx = self.current_idx\n",
    "        for _ in range(3):\n",
    "            next_number = self.memory[temp_idx-1]\n",
    "            pickup.append(next_number)\n",
    "            temp_idx = next_number\n",
    "        \n",
    "        # get index for next step\n",
    "        next_idx = self.memory[pickup[2]-1]\n",
    "        \n",
    "        # calculate destination value\n",
    "        dest_value = self.current_idx - 1\n",
    "        if dest_value < self.min:\n",
    "            dest_value = self.max\n",
    "        while dest_value in pickup:\n",
    "            dest_value -= 1\n",
    "            if dest_value < self.min:\n",
    "                dest_value = self.max\n",
    "                \n",
    "        # close gap: connect current cup with cup after last pickup cup\n",
    "        self.memory[self.current_idx-1] = self.memory[pickup[2]-1]\n",
    "        \n",
    "        # get cup next to destination cup\n",
    "        temp_pointer = self.memory[dest_value-1]\n",
    "        \n",
    "        # connect destination cup with first inserted cup\n",
    "        self.memory[dest_value-1] = pickup[0]\n",
    "        \n",
    "        # connect last inserted cup to the right\n",
    "        self.memory[pickup[2]-1] = temp_pointer\n",
    "        \n",
    "        # apply index for next step\n",
    "        self.current_idx = next_idx\n",
    "\n",
    "    def eval1(self):\n",
    "        output = ['1']\n",
    "        idx = 1\n",
    "        for _ in range(self.n-1):\n",
    "            idx = self.memory[idx-1]\n",
    "            output.append(str(idx))\n",
    "        print('result 1: ', ''.join(output)[1:])\n",
    "\n",
    "    def eval2(self):\n",
    "        num1 = self.memory[0]\n",
    "        num2 = self.memory[num1-1]\n",
    "        print('result 2: ', num1*num2)"
   ]
  },
  {
   "cell_type": "code",
   "execution_count": 2,
   "metadata": {},
   "outputs": [
    {
     "name": "stdout",
     "output_type": "stream",
     "text": [
      "result 1:  49576328\n"
     ]
    }
   ],
   "source": [
    "# ─── CHALLENGE 1 ────────────────────────────────────────────────────────────────\n",
    "\n",
    "lines_int = [int(c) for c in inp]\n",
    "crab = Crab(lines_int)\n",
    "for _ in range(100):\n",
    "    crab.step()\n",
    "crab.eval1()"
   ]
  },
  {
   "cell_type": "code",
   "execution_count": 3,
   "metadata": {},
   "outputs": [
    {
     "name": "stdout",
     "output_type": "stream",
     "text": [
      "result 2:  511780369955\n"
     ]
    }
   ],
   "source": [
    "# ─── CHALLENGE 2 ────────────────────────────────────────────────────────────────\n",
    "\n",
    "lines_int = [int(c) for c in inp] + [i for i in range(10, 1_000_001)]\n",
    "crab = Crab(lines_int)\n",
    "for _ in range(10_000_000):\n",
    "    crab.step()\n",
    "crab.eval2()"
   ]
  }
 ],
 "metadata": {
  "kernelspec": {
   "display_name": "ravelights",
   "language": "python",
   "name": "python3"
  },
  "language_info": {
   "codemirror_mode": {
    "name": "ipython",
    "version": 3
   },
   "file_extension": ".py",
   "mimetype": "text/x-python",
   "name": "python",
   "nbconvert_exporter": "python",
   "pygments_lexer": "ipython3",
   "version": "3.10.4 | packaged by conda-forge | (main, Mar 24 2022, 17:32:50) [MSC v.1929 64 bit (AMD64)]"
  },
  "orig_nbformat": 2,
  "vscode": {
   "interpreter": {
    "hash": "93ebad531fc14ba2f2fe9865593b3cc6d4b4610116dacef3aa50777030d7ba3e"
   }
  }
 },
 "nbformat": 4,
 "nbformat_minor": 2
}
