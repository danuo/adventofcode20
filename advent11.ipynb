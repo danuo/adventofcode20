{
 "cells": [
  {
   "cell_type": "code",
   "execution_count": 1,
   "metadata": {},
   "outputs": [
    {
     "name": "stdout",
     "output_type": "stream",
     "text": [
      "result 2:  2194\n"
     ]
    }
   ],
   "source": [
    "# ─── CHALLENGE 1 ────────────────────────────────────────────────────────────────\n",
    "\n",
    "import numpy as np\n",
    "from functools import reduce\n",
    "\n",
    "with open('input11') as file:\n",
    "    lines = file.read().splitlines()\n",
    "\n",
    "int_lists = []\n",
    "replacements = (('.', '0'), ('L', '1'), ('#', '2'))\n",
    "for line in lines:\n",
    "    string = reduce(lambda a, kv: a.replace(*kv), replacements, line)\n",
    "    int_list = [int(char) for char in string]\n",
    "    int_lists.append(int_list)\n",
    "\n",
    "state = np.array(int_lists)\n",
    "n,m = state.shape\n",
    "\n",
    "def check_index(i,j):\n",
    "    return all([0 <= i < n,\n",
    "                0 <= j < m,])\n",
    "\n",
    "def get_indices():\n",
    "    index_list = []\n",
    "    for i in range(-1,2):\n",
    "        for j in range(-1,2):\n",
    "            if (i,j) != (0,0):\n",
    "                index_list.append((i, j))\n",
    "    return index_list\n",
    "\n",
    "direction_tuples = get_indices()\n",
    "\n",
    "while True:  # execute till state does not change\n",
    "    state_new = state.copy()\n",
    "\n",
    "    for (i, j), value in np.ndenumerate(state):\n",
    "        count_adjacent = 0\n",
    "        for direction in range(8):\n",
    "            i_new = i + direction_tuples[direction][0]\n",
    "            j_new = j + direction_tuples[direction][1]\n",
    "            if check_index(i_new, j_new):\n",
    "                if state[i_new, j_new] == 2:\n",
    "                    count_adjacent += 1\n",
    "\n",
    "        # rule 1 - seats next to zero occupied seats become occupied\n",
    "        if state[i, j] == 1:\n",
    "            if count_adjacent == 0:\n",
    "                state_new[i, j] = 2\n",
    "\n",
    "        # rule 2 - seats to 4 ore more occupied seats become empty \n",
    "        if state[i, j] == 2:\n",
    "            if count_adjacent >= 4:\n",
    "                state_new[i, j] = 1\n",
    "\n",
    "    if np.equal(state, state_new).all():  # stop with equilibrium\n",
    "        break\n",
    "    state = state_new\n",
    "\n",
    "print('result 2: ', np.count_nonzero(np.where(state == 2, 1, 0)))"
   ]
  },
  {
   "cell_type": "code",
   "execution_count": 2,
   "metadata": {},
   "outputs": [
    {
     "name": "stdout",
     "output_type": "stream",
     "text": [
      "no change after \n",
      "result 2:  1944\n"
     ]
    }
   ],
   "source": [
    "# ─── CHALLENGE 2 ────────────────────────────────────────────────────────────────\n",
    "\n",
    "state = np.array(int_lists)\n",
    "while True:  # execute till state does not change\n",
    "    state_new = state.copy()\n",
    "    for (i, j), value in np.ndenumerate(state):\n",
    "        count_adjacent = 0\n",
    "        for direction in range(8):\n",
    "            i_new = i\n",
    "            j_new = j\n",
    "            while True:  # traverse until seat is found or edge reached\n",
    "                i_new = i_new + direction_tuples[direction][0]\n",
    "                j_new = j_new + direction_tuples[direction][1]\n",
    "                if not check_index(i_new,j_new): # out of bounds\n",
    "                    break\n",
    "                else:\n",
    "                    if state[i, j] == 0:\n",
    "                        continue  # traverse further in same direction\n",
    "                    if state[i_new, j_new] == 1:\n",
    "                        # seat empty, next direction\n",
    "                        break\n",
    "                    if state[i_new, j_new] == 2:\n",
    "                        # seat taken, count\n",
    "                        count_adjacent += 1\n",
    "                        break\n",
    "\n",
    "        # rule 1 - seats that don't see occupied seats become occupied\n",
    "        if state[i, j] == 1:\n",
    "            if count_adjacent == 0:\n",
    "                state_new[i, j] = 2\n",
    "        \n",
    "        # rule 2 - seats that see more or equal to 5 occupied seats become empty \n",
    "        if state[i, j] == 2:\n",
    "            if count_adjacent >= 5:\n",
    "                state_new[i, j] = 1\n",
    "\n",
    "    if np.equal(state, state_new).all():\n",
    "        break\n",
    "    state = state_new\n",
    "\n",
    "print('result 2: ', np.count_nonzero(np.where(state == 2, 1, 0)))"
   ]
  }
 ],
 "metadata": {
  "kernelspec": {
   "display_name": "Python 3",
   "language": "python",
   "name": "python3"
  },
  "language_info": {
   "codemirror_mode": {
    "name": "ipython",
    "version": 3
   },
   "file_extension": ".py",
   "mimetype": "text/x-python",
   "name": "python",
   "nbconvert_exporter": "python",
   "pygments_lexer": "ipython3",
   "version": "3.8.3"
  },
  "orig_nbformat": 2
 },
 "nbformat": 4,
 "nbformat_minor": 2
}
