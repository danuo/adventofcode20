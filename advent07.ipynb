{
 "cells": [
  {
   "cell_type": "code",
   "execution_count": 1,
   "metadata": {},
   "outputs": [
    {
     "name": "stdout",
     "output_type": "stream",
     "text": [
      "result 1:  242\n"
     ]
    }
   ],
   "source": [
    "# ─── CHALLENGE 1 ────────────────────────────────────────────────────────────────\n",
    "\n",
    "import re\n",
    "\n",
    "with open('input07') as file:\n",
    "    lines = file.read().replace(' ', '').splitlines()\n",
    "\n",
    "unique_color_set = set()\n",
    "child_to_parent_dict = dict()\n",
    "# key   = child_color  : str\n",
    "# value = parent_colors: list of str = [parent_color: str, ]\n",
    "\n",
    "# get all child -> parent relations\n",
    "for line in lines:\n",
    "    result = re.search(r'([\\w ]*)(?:bagscontain)([\\w\\d,.]*)', line)\n",
    "    parent_color, child_string = result.groups()\n",
    "    if child_string.startswith('no'):\n",
    "        continue\n",
    "    child_items = re.findall(r'(\\d{1,2})([\\w ]*)(?:bags|bag)[^\\w]', child_string)\n",
    "    for child_n, child_color in child_items:\n",
    "        current_entry = child_to_parent_dict.get(child_color, None)\n",
    "        if current_entry:\n",
    "            current_entry.append(parent_color)\n",
    "        else:\n",
    "            child_to_parent_dict.update({child_color: [parent_color]})\n",
    "\n",
    "def traverse_up(child):\n",
    "    parents = child_to_parent_dict.get(child)\n",
    "    if not parents:\n",
    "        return\n",
    "    for parent in parents:\n",
    "        unique_color_set.add(parent)\n",
    "        traverse_up(parent)\n",
    "\n",
    "traverse_up('shinygold')\n",
    "print('result 1: ', len(unique_color_set))"
   ]
  },
  {
   "cell_type": "code",
   "execution_count": 2,
   "metadata": {},
   "outputs": [
    {
     "name": "stdout",
     "output_type": "stream",
     "text": [
      "result 2:  176035\n"
     ]
    }
   ],
   "source": [
    "# ─── CHALLENGE 2 ────────────────────────────────────────────────────────────────\n",
    "\n",
    "counter = 0\n",
    "parent_to_child_dict = dict()\n",
    "# key   = parent_color: str\n",
    "# value = childs      : list of tuples = [(child_n: str, child_color: str)), ]\n",
    "\n",
    "# get all parents -> child relations\n",
    "for line in lines:\n",
    "    result = re.search(r'([\\w ]*)(?:bagscontain)([\\w\\d,.]*)', line)\n",
    "    parent_color, child_string = result.groups()\n",
    "    if child_string.startswith('no'):\n",
    "        continue\n",
    "    child_items = re.findall(r'(\\d{1,2})([\\w ]*)(?:bags|bag)[^\\w]', child_string)\n",
    "    parent_to_child_dict.update({parent_color: child_items})\n",
    "\n",
    "def traverse_down(parent_n, item):\n",
    "    global counter\n",
    "    childs = parent_to_child_dict.get(item)\n",
    "    if not childs:\n",
    "        return\n",
    "    for child_n, child_color in childs:\n",
    "        n = parent_n * int(child_n)\n",
    "        counter += n\n",
    "        traverse_down(n, child_color)\n",
    "\n",
    "traverse_down(1, 'shinygold')\n",
    "print('result 2: ', counter)"
   ]
  }
 ],
 "metadata": {
  "kernelspec": {
   "display_name": "ravelights",
   "language": "python",
   "name": "python3"
  },
  "language_info": {
   "codemirror_mode": {
    "name": "ipython",
    "version": 3
   },
   "file_extension": ".py",
   "mimetype": "text/x-python",
   "name": "python",
   "nbconvert_exporter": "python",
   "pygments_lexer": "ipython3",
   "version": "3.10.4 | packaged by conda-forge | (main, Mar 24 2022, 17:32:50) [MSC v.1929 64 bit (AMD64)]"
  },
  "orig_nbformat": 2,
  "vscode": {
   "interpreter": {
    "hash": "93ebad531fc14ba2f2fe9865593b3cc6d4b4610116dacef3aa50777030d7ba3e"
   }
  }
 },
 "nbformat": 4,
 "nbformat_minor": 2
}
